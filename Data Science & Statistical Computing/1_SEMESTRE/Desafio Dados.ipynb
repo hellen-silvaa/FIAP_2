{
  "nbformat": 4,
  "nbformat_minor": 0,
  "metadata": {
    "colab": {
      "provenance": []
    },
    "kernelspec": {
      "name": "python3",
      "display_name": "Python 3"
    },
    "language_info": {
      "name": "python"
    }
  },
  "cells": [
    {
      "cell_type": "code",
      "source": [
        "#Hellen Aparecida Moura Silva\n",
        "#RM 559008"
      ],
      "metadata": {
        "id": "xJ2TtbVIOyy9"
      },
      "execution_count": null,
      "outputs": []
    },
    {
      "cell_type": "code",
      "source": [
        "import pandas as pd\n",
        "import numpy as np\n",
        "from scipy.stats import binom"
      ],
      "metadata": {
        "id": "l-5DkjIdIbYy"
      },
      "execution_count": null,
      "outputs": []
    },
    {
      "cell_type": "code",
      "execution_count": null,
      "metadata": {
        "colab": {
          "base_uri": "https://localhost:8080/"
        },
        "id": "-7K2gM_oGQP4",
        "outputId": "7aaffe82-62d8-48c9-a240-9ac9f4eff184"
      },
      "outputs": [
        {
          "output_type": "stream",
          "name": "stdout",
          "text": [
            "[1 2 3 4 5 6]\n",
            "0.16666666666666666\n"
          ]
        }
      ],
      "source": [
        "#1 Produza um dado em Python com as mesmas dimensões e valores que o recebido no desafio. Qual a probabilidade de obter cada valor do seu dado no sorteio?\n",
        "dado = np.arange(1,7)\n",
        "print(dado)\n",
        "dado = pd.Series(dado)\n",
        "\n",
        "print(1/len(dado))\n",
        "\n",
        "#A probabilidadede obter cada valor do dado no sorteio é 16%"
      ]
    },
    {
      "cell_type": "code",
      "source": [
        "#2 Utilize como semente aleatória o último número da sua matrícula (Y). Simule o lançamento deste dado 1.000 vezes, com reposição. Qual o valor que apresentou a maior frequência de repetições?\n",
        "np.random.seed(8)\n",
        "sorteio = np.random.choice(dado, size = 1000)\n",
        "\n",
        "sorteio = pd.Series(sorteio)\n",
        "print(sorteio.value_counts())\n",
        "\n",
        "\n",
        "#O número que mais se repetiu foi 3\n"
      ],
      "metadata": {
        "colab": {
          "base_uri": "https://localhost:8080/"
        },
        "id": "Vhqcu4vlHXQ-",
        "outputId": "9fae842e-1aed-467b-e91e-d905c700f289"
      },
      "execution_count": null,
      "outputs": [
        {
          "output_type": "stream",
          "name": "stdout",
          "text": [
            "3    182\n",
            "4    180\n",
            "2    175\n",
            "6    158\n",
            "5    156\n",
            "1    149\n",
            "Name: count, dtype: int64\n"
          ]
        }
      ]
    },
    {
      "cell_type": "code",
      "source": [
        "#3 Utilize como semente aleatória o último número da sua matrícula (Y). Simule o lançamento deste dado 1.000.000 de vezes, com reposição. Qual o valor que apresentou a maior frequência de repetições?\n",
        "np.random.seed(8)\n",
        "sorteio = np.random.randint(low=1, high=7, size=1000000)\n",
        "\n",
        "sorteio = pd.Series(sorteio)\n",
        "print(sorteio.value_counts())\n",
        "#O número que mais se repetiu foi 6\n"
      ],
      "metadata": {
        "colab": {
          "base_uri": "https://localhost:8080/"
        },
        "id": "29nqo_vAHwYR",
        "outputId": "13d2bc9c-2976-45fe-fbc6-efa7973aba0e"
      },
      "execution_count": null,
      "outputs": [
        {
          "output_type": "stream",
          "name": "stdout",
          "text": [
            "6    167133\n",
            "5    166998\n",
            "4    166837\n",
            "3    166626\n",
            "1    166399\n",
            "2    166007\n",
            "Name: count, dtype: int64\n"
          ]
        }
      ]
    },
    {
      "cell_type": "code",
      "source": [
        "#4 Qual a probabilidade de, ao lançar o dado uma vez, você obtenha os números 1, 2 ou 3 (para os dados com unidades) ou 10, 20 ou 30 (para os dados com dezenas)?\n",
        "\n",
        "print(1/6)\n",
        "print(2/6)\n",
        "print(3/6)\n",
        "\n",
        "#A probabilidade de sair o número 1 é 16%\n",
        "#A probabilidade de sair o número 2 é 33%\n",
        "#A probabilidade de sair o número 3 é 50%"
      ],
      "metadata": {
        "colab": {
          "base_uri": "https://localhost:8080/"
        },
        "id": "X-wqgxstJTip",
        "outputId": "cfd5aa3c-b287-457d-fdc7-4c86212487f5"
      },
      "execution_count": null,
      "outputs": [
        {
          "output_type": "stream",
          "name": "stdout",
          "text": [
            "0.16666666666666666\n",
            "0.3333333333333333\n",
            "0.5\n"
          ]
        }
      ]
    },
    {
      "cell_type": "code",
      "source": [
        "#5 Utilize como semente aleatória o último número da sua matrícula (Y). Você possui uma moeda viciada que tem probabilidade de X2% de cair CARA. Realizando 10 experimentos jogando a moeda 4 vezes, crie uma lista com o número de vezes que o lado CARA foi sorteado.\n",
        "np.random.seed(8)\n",
        "moeda =binom.rvs(n=4, p=0.02, size=10)\n",
        "print(moeda)\n",
        "\n",
        "\n",
        "#O lado CARA foi sorteado [0 1 0 0 0 0 0 0 0 0]\n"
      ],
      "metadata": {
        "colab": {
          "base_uri": "https://localhost:8080/"
        },
        "id": "4dDOLBfaJ9NY",
        "outputId": "f25f7e65-bb60-44a7-e8f8-89cdcb9d53d5"
      },
      "execution_count": null,
      "outputs": [
        {
          "output_type": "stream",
          "name": "stdout",
          "text": [
            "[0 1 0 0 0 0 0 0 0 0]\n"
          ]
        }
      ]
    },
    {
      "cell_type": "code",
      "source": [
        "#6Qual a probabilidade de a sua moeda viciada (probabilidade de X2% de cair CARA) apresentar exatamente 7 CARAS em 10 tentativas?\n",
        "\n",
        "\n",
        "moeda_viciada = binom.pmf(k=7, n=10, p=0.2)\n",
        "print(moeda_viciada)\n",
        "\n",
        "# A probabilidade da moeda viciada apresentar exatamente 7 CARAS em 10 tentativas é 0.079%\n",
        "#0.000786432"
      ],
      "metadata": {
        "colab": {
          "base_uri": "https://localhost:8080/"
        },
        "id": "mZsiyiRHKAQX",
        "outputId": "5d9f13e7-061c-4341-ee8e-622cb33b2977"
      },
      "execution_count": null,
      "outputs": [
        {
          "output_type": "stream",
          "name": "stdout",
          "text": [
            "0.000786432\n"
          ]
        }
      ]
    }
  ]
}