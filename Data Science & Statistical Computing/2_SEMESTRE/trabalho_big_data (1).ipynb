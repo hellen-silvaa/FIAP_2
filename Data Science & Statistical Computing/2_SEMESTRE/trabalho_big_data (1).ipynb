{
  "cells": [
    {
      "cell_type": "markdown",
      "metadata": {
        "id": "cmmfzaR-gV1T"
      },
      "source": [
        "# Comandos para realização do trabalho da matéria de Big Data com uso da biblioteca PySpark.\n",
        "\n",
        "Este notebook foi projetado para guiar os alunos na realização das práticas de Big Data utilizando PySpark. Certifique-se de seguir cada etapa cuidadosamente para garantir a correta execução das atividades.\n",
        "\n",
        "Seu trabalho começará na célula 5. Execute as 4 primeiras células para iniciar a atividade.\n",
        "\n",
        "## <font color=red>Observação importante:</font>\n",
        "\n",
        "<font color=yellow>Trabalho realizado com uso da biblioteca pandas não será aceito!</font>"
      ]
    },
    {
      "cell_type": "markdown",
      "metadata": {
        "id": "z6dUOxkrgV1Z"
      },
      "source": [
        "## Upload do arquivo `imdb-reviews-pt-br.csv` para dentro do Google Colab\n",
        "\n",
        "Aqui, você fará o download do dataset necessário para as atividades. Certifique-se de que o arquivo foi descompactado corretamente antes de prosseguir."
      ]
    },
    {
      "cell_type": "code",
      "execution_count": null,
      "metadata": {
        "id": "EWr9sVnRgV1Z",
        "colab": {
          "base_uri": "https://localhost:8080/",
          "height": 0
        },
        "outputId": "ca485765-55d9-4535-c134-ef84c4e9c7b0"
      },
      "outputs": [
        {
          "output_type": "stream",
          "name": "stdout",
          "text": [
            "--2025-09-06 02:28:56--  https://raw.githubusercontent.com/N-CPUninter/Big_Data/main/data/imdb-reviews-pt-br.zip\n",
            "Resolving raw.githubusercontent.com (raw.githubusercontent.com)... 185.199.108.133, 185.199.109.133, 185.199.110.133, ...\n",
            "Connecting to raw.githubusercontent.com (raw.githubusercontent.com)|185.199.108.133|:443... connected.\n",
            "HTTP request sent, awaiting response... 200 OK\n",
            "Length: 49549692 (47M) [application/zip]\n",
            "Saving to: ‘imdb-reviews-pt-br.zip’\n",
            "\n",
            "imdb-reviews-pt-br. 100%[===================>]  47.25M   199MB/s    in 0.2s    \n",
            "\n",
            "2025-09-06 02:28:57 (199 MB/s) - ‘imdb-reviews-pt-br.zip’ saved [49549692/49549692]\n",
            "\n",
            "Archive:  imdb-reviews-pt-br.zip\n",
            "replace imdb-reviews-pt-br.csv? [y]es, [n]o, [A]ll, [N]one, [r]ename: "
          ]
        }
      ],
      "source": [
        "!wget https://raw.githubusercontent.com/N-CPUninter/Big_Data/main/data/imdb-reviews-pt-br.zip -O imdb-reviews-pt-br.zip\n",
        "!unzip imdb-reviews-pt-br.zip\n",
        "!rm imdb-reviews-pt-br.zip"
      ]
    },
    {
      "cell_type": "markdown",
      "metadata": {
        "id": "-RYisyv-gV1b"
      },
      "source": [
        "## Instalação manual das dependências para uso do pyspark no Google Colab\n",
        "\n",
        "Esta etapa garante que todas as bibliotecas necessárias para o PySpark sejam instaladas no Google Colab."
      ]
    },
    {
      "cell_type": "code",
      "execution_count": null,
      "metadata": {
        "id": "8vgqWO3lgV1b"
      },
      "outputs": [],
      "source": [
        "!pip install pyspark"
      ]
    },
    {
      "cell_type": "markdown",
      "metadata": {
        "id": "cg15taWZgV1c"
      },
      "source": [
        "## Importar, instanciar e criar a SparkSession\n",
        "\n",
        "A SparkSession é o ponto de entrada para usar o PySpark. Certifique-se de configurar corretamente o nome do aplicativo e o master."
      ]
    },
    {
      "cell_type": "code",
      "execution_count": null,
      "metadata": {
        "id": "ZRxsIf_0gV1c"
      },
      "outputs": [],
      "source": [
        "from pyspark.sql import SparkSession\n",
        "\n",
        "appName = \"PySpark Trabalho de Big Data\"\n",
        "master = \"local\"\n",
        "\n",
        "spark = SparkSession.builder.appName(appName).master(master).getOrCreate()"
      ]
    },
    {
      "cell_type": "markdown",
      "metadata": {
        "id": "DRMWRrCigV1d"
      },
      "source": [
        "## Criar spark dataframe do CSV utilizando o método read.csv do spark\n",
        "\n",
        "Não altere este código e use o dataframe imdb_df criado aqui em todo o seu trabalho. A criação de um dataframe diferente deste poderá causar erros na coluna sentiment e isso refletirá em erros de resposta das questões."
      ]
    },
    {
      "cell_type": "code",
      "execution_count": null,
      "metadata": {
        "id": "IHW4g9ZHgV1d"
      },
      "outputs": [],
      "source": [
        "imdb_df = spark.read.csv('imdb-reviews-pt-br.csv',\n",
        "                         header=True,\n",
        "                         quote=\"\\\"\",\n",
        "                         escape=\"\\\"\",\n",
        "                         encoding=\"UTF-8\")"
      ]
    },
    {
      "cell_type": "markdown",
      "metadata": {
        "id": "GvB9ZmLfgV1d"
      },
      "source": [
        "\n",
        "# Questão 1\n",
        "\n",
        "Nesta questão, você irá calcular a soma dos IDs para entradas onde o sentimento ('sentiment') é 'neg'.\n",
        "\n",
        "### Objetivo:\n",
        "- Usar a coluna 'sentiment' como chave e somar os valores da coluna 'id'."
      ]
    },
    {
      "cell_type": "markdown",
      "metadata": {
        "id": "mbUMRbyngV1d"
      },
      "source": [
        "## Criar funções de MAP:\n",
        "- Criar função para mapear o \"sentiment\" como chave e o \"id\" como valor do tipo inteiro\n",
        "\n",
        "A função map irá transformar cada linha do dataframe em uma **tupla** (chave-valor), onde:\n",
        "- Chave: coluna 'sentiment'\n",
        "- Valor: coluna 'id' convertida para inteiro."
      ]
    },
    {
      "cell_type": "code",
      "execution_count": null,
      "metadata": {
        "id": "V9zcKyR2gV1e"
      },
      "outputs": [],
      "source": [
        "print(\"Aluno: Hellen Aparecida Moura Silva\")\n",
        "print(\"RU: 3704426\")\n",
        "\n",
        "#  Definição da função map1\n",
        "# map1 recebe uma linha (Row) e retorna uma tupla (sentiment, id_int)\n",
        "\n",
        "def map1(row):\n",
        "    # converte Row em dicionário para acesso seguro\n",
        "    try:\n",
        "        d = row.asDict()\n",
        "    except Exception:\n",
        "\n",
        "        try:\n",
        "            sentiment = getattr(row, \"sentiment\", None)\n",
        "            id_raw = getattr(row, \"id\", None)\n",
        "            id_int = int(id_raw) if id_raw is not None else 0\n",
        "            return (sentiment, id_int)\n",
        "        except Exception:\n",
        "            return (None, 0)\n",
        "\n",
        "    sentiment = d.get('sentiment')\n",
        "    id_raw = d.get('id', 0)\n",
        "    try:\n",
        "        id_int = int(id_raw)\n",
        "    except (ValueError, TypeError):\n",
        "        # se não for conversível, atribui 0 (evita erro no pipeline)\n",
        "        id_int = 0\n",
        "\n",
        "    return (sentiment, id_int)\n"
      ]
    },
    {
      "cell_type": "markdown",
      "metadata": {
        "id": "Gq4zUivsgV1e"
      },
      "source": [
        "## Cria funções de REDUCE:\n",
        "\n",
        "- Criar função de reduce para somar os IDs por \"sentiment\".\n",
        "\n",
        "A função reduce irá somar os valores dos IDs agrupados por chave ('sentiment')."
      ]
    },
    {
      "cell_type": "code",
      "execution_count": null,
      "metadata": {
        "id": "ZGeIfvo_gV1e"
      },
      "outputs": [],
      "source": [
        "print(\"Aluno: Hellen Aparecida Moura Silva\")\n",
        "print(\"RU: 3704426\")\n",
        "\n",
        "#  Definição da função reduceByKey1\n",
        "# recebe dois valores inteiros e retorna a soma\n",
        "\n",
        "def reduceByKey1(x, y):\n",
        "    return x + y\n"
      ]
    },
    {
      "cell_type": "markdown",
      "metadata": {
        "id": "CyBpylz_gV1e"
      },
      "source": [
        "## Aplicação do map/reduce e visualização do resultado\n",
        "\n",
        "Aqui, você aplicará as funções de map e reduce ao dataframe Spark para calcular os resultados. Não se esqueça de usar o método `.collect()` para visualizar os resultados."
      ]
    },
    {
      "cell_type": "code",
      "execution_count": null,
      "metadata": {
        "id": "dq88uZMcgV1e"
      },
      "outputs": [],
      "source": [
        "print(\"Aluno: Hellen Aparecida Moura Silva\")\n",
        "print(\"RU: 3704426\")\n",
        "\n",
        "#Aplicação do map/reduce e impressão do resultado\n",
        "# Aplicar map e reduceByKey\n",
        "resultado = imdb_df.rdd.map(map1).reduceByKey(reduceByKey1).collect()\n",
        "\n",
        "print(\"---- Resultado (soma dos ids por sentiment) ----\")\n",
        "\n",
        "# Ordenar resultado por chave para apresentação consistente\n",
        "for chave, soma in sorted(resultado, key=lambda x: str(x[0])):\n",
        "    print(f\"sentiment = {chave!s}  -> soma(id) = {soma}\")\n",
        "\n",
        "# Se quiser especificamente a soma para 'neg', exibimos abaixo:\n",
        "resultado_dict = dict(resultado)\n",
        "neg_sum = resultado_dict.get('neg')\n",
        "print(\"\\nSoma dos ids onde sentiment == 'neg':\", neg_sum)\n"
      ]
    },
    {
      "cell_type": "markdown",
      "metadata": {
        "id": "vjmQKRUEgV1e"
      },
      "source": [
        "# Questão 2:\n",
        "\n",
        "Nesta questão, você irá calcular a diferença no número total de palavras entre textos negativos em português e inglês.\n",
        "\n",
        "### Objetivo:\n",
        "- Contar as palavras em cada idioma (colunas 'text_pt' e 'text_en') para entradas onde o sentimento ('sentiment') é 'neg'.\n",
        "- Subtrair o total de palavras em inglês do total em português."
      ]
    },
    {
      "cell_type": "markdown",
      "metadata": {
        "id": "IsfCPgY2gV1e"
      },
      "source": [
        "## Criar funções de MAP:\n",
        "- Criar função para mapear o \"sentiment\" como chave de uma tupla principal e como valor uma outra tupla com a soma das palavras de cada idioma como valor.\n",
        "\n",
        "A função map irá transformar cada linha do dataframe em uma tupla (chave-valor), onde:\n",
        "- Chave: coluna 'sentiment'\n",
        "- Valor: Nova tupla com:\n",
        "  - Elemento 0: soma das palavras da coluna 'text_en'\n",
        "  - Elemento 1: soma das palavras da coluna 'text_pt'\n",
        "\n",
        "OU\n",
        "- Chave: coluna 'sentiment'\n",
        "- Valor: (soma das palavras da coluna 'text_pt') - (soma das palavras da coluna 'text_en')\n",
        "  \n",
        "\n",
        "Para contar as palavras deve-se primeiro separar os textos em uma lista de palavras para então descobrir o tamanho desta lista.\n",
        "Dicas:\n",
        "\n",
        "1. Use o método .split() e não .split(\" \") de string para separar as palavras em uma lista ou use a função split(coluna de texto, regex) do pyspark com o regex igual à \"[ ]+\" ou \"\\s+\"\n",
        "2. Use len() para descobrir o tamanho da lista de palavras."
      ]
    },
    {
      "cell_type": "code",
      "execution_count": null,
      "metadata": {
        "id": "Prc2qQItgV1e"
      },
      "outputs": [],
      "source": [
        "print(\"Aluno: Hellen Aparecida Moura Silva\")\n",
        "print(\"RU: 3704426\")\n",
        "# Retorna (sentiment, (qtde_palavras_en, qtde_palavras_pt))\n",
        "\n",
        "def map2(row):\n",
        "    # tenta acessar como dicionário (Row.asDict()), fallback para getattr\n",
        "    try:\n",
        "        d = row.asDict()\n",
        "        sentiment = d.get('sentiment')\n",
        "        text_en = d.get('text_en', '') or ''\n",
        "        text_pt = d.get('text_pt', '') or ''\n",
        "    except Exception:\n",
        "        sentiment = getattr(row, \"sentiment\", None)\n",
        "        text_en = getattr(row, \"text_en\", '') or ''\n",
        "        text_pt = getattr(row, \"text_pt\", '') or ''\n",
        "\n",
        "    # garante strings\n",
        "    if text_en is None:\n",
        "        text_en = ''\n",
        "    if text_pt is None:\n",
        "        text_pt = ''\n",
        "\n",
        "    # separa em palavras usando split() (trata múltiplos espaços e quebras)\n",
        "    try:\n",
        "        en_count = len(str(text_en).split())\n",
        "    except Exception:\n",
        "        en_count = 0\n",
        "\n",
        "    try:\n",
        "        pt_count = len(str(text_pt).split())\n",
        "    except Exception:\n",
        "        pt_count = 0\n",
        "\n",
        "    return (sentiment, (en_count, pt_count))\n"
      ]
    },
    {
      "cell_type": "markdown",
      "metadata": {
        "id": "TuqYT4rqgV1f"
      },
      "source": [
        "## Cria funções de REDUCE:\n",
        "\n",
        "- Criar função de reduce para somar o numero de palavras de cada texto português e inglês por \"sentiment\" (dependerá de como você optou por fazer sua função map2).\n",
        "\n",
        "A função reduce irá somar os valores das quantidades de palavras agrupados por chave ('sentiment')."
      ]
    },
    {
      "cell_type": "code",
      "execution_count": null,
      "metadata": {
        "id": "FFVg5SyfgV1f"
      },
      "outputs": [],
      "source": [
        "print(\"Aluno: Hellen Aparecida Moura Silva\")\n",
        "print(\"RU: 3704426\")\n",
        "# Recebe duas tuplas (en_count, pt_count) e soma elemento a elemento\n",
        "\n",
        "def reduceByKey2(x, y):\n",
        "    # x e y são tuplas: (en_total, pt_total)\n",
        "    return (x[0] + y[0], x[1] + y[1])\n"
      ]
    },
    {
      "cell_type": "markdown",
      "metadata": {
        "id": "shoxZ5QqgV1f"
      },
      "source": [
        "## Aplicação do map/reduce e visualização do resultado\n",
        "\n",
        "1. Aplicar o map/reduce no seu dataframe spark e realizar o collect() ao final\n",
        "2. Selecionar os dados referentes aos textos negativos para realizar a subtração.\n",
        "3. Realizar a subtração das contagens de palavras dos textos negativos para obter o resultado final"
      ]
    },
    {
      "cell_type": "code",
      "execution_count": null,
      "metadata": {
        "id": "TltJKPNggV1f"
      },
      "outputs": [],
      "source": [
        "print(\"Aluno: Hellen Aparecida Moura Silva\")\n",
        "print(\"RU: 3704426\")\n",
        "\n",
        "# Aplica map e reduceByKey no RDD do DataFrame imdb_df\n",
        "resultado = imdb_df.rdd.map(map2).reduceByKey(reduceByKey2).collect()\n",
        "print(\"---- Soma total de palavras por sentiment (en, pt) ----\")\n",
        "\n",
        "# Imprime todos os resultados (por segurança) ordenados por sentiment\n",
        "for chave, (en_total, pt_total) in sorted(resultado, key=lambda x: str(x[0])):\n",
        "    print(f\"sentiment = {chave!s}  -> en_total = {en_total}, pt_total = {pt_total}\")\n",
        "\n",
        "# Extrai especificamente os valores para 'neg' e calcula a diferença pt - en\n",
        "resultado_dict = dict(resultado)\n",
        "neg_tuple = resultado_dict.get('neg')\n",
        "\n",
        "if neg_tuple is None:\n",
        "    print(\"\\nNão foram encontradas entradas com sentiment == 'neg'.\")\n",
        "else:\n",
        "    en_neg, pt_neg = neg_tuple\n",
        "    diff_pt_minus_en = pt_neg - en_neg\n",
        "    print(\"\\n--- Resultado pedido ---\")\n",
        "    print(\"Soma total de palavras (text_en) para sentiment == 'neg':\", en_neg)\n",
        "    print(\"Soma total de palavras (text_pt) para sentiment == 'neg':\", pt_neg)\n",
        "    print(\"Diferença (pt - en) para sentiment == 'neg':\", diff_pt_minus_en)\n",
        "\n"
      ]
    }
  ],
  "metadata": {
    "language_info": {
      "name": "python"
    },
    "orig_nbformat": 4,
    "colab": {
      "provenance": []
    },
    "kernelspec": {
      "name": "python3",
      "display_name": "Python 3"
    }
  },
  "nbformat": 4,
  "nbformat_minor": 0
}