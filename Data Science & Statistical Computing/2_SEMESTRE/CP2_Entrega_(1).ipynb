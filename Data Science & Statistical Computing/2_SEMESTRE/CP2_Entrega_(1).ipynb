{
  "cells": [
    {
      "cell_type": "code",
      "execution_count": null,
      "metadata": {
        "id": "cpeLkZ5yB20f"
      },
      "outputs": [],
      "source": [
        "#NOME DO ALUNO: Hellen Aparecida Moura Silva\n",
        "#MATRÍCULA: 559008"
      ]
    },
    {
      "cell_type": "code",
      "execution_count": null,
      "metadata": {
        "colab": {
          "base_uri": "https://localhost:8080/"
        },
        "id": "n92ZsJV5B20g",
        "metadata": {},
        "outputId": "277153b5-368c-41bd-f1a4-b097c5d9501e"
      },
      "outputs": [
        {
          "name": "stdout",
          "output_type": "stream",
          "text": [
            "                       MainBranch              Age  \\\n",
            "0                   None of these  18-24 years old   \n",
            "1  I am a developer by profession  25-34 years old   \n",
            "2  I am a developer by profession  45-54 years old   \n",
            "3  I am a developer by profession  25-34 years old   \n",
            "4  I am a developer by profession  25-34 years old   \n",
            "\n",
            "                                          Employment  \\\n",
            "0                                                NaN   \n",
            "1                                Employed, full-time   \n",
            "2                                Employed, full-time   \n",
            "3                                Employed, full-time   \n",
            "4  Employed, full-time;Independent contractor, fr...   \n",
            "\n",
            "                             RemoteWork  \\\n",
            "0                                   NaN   \n",
            "1                                Remote   \n",
            "2  Hybrid (some remote, some in-person)   \n",
            "3  Hybrid (some remote, some in-person)   \n",
            "4                                Remote   \n",
            "\n",
            "                                        EdLevel  \\\n",
            "0                                           NaN   \n",
            "1  Bachelor’s degree (B.A., B.S., B.Eng., etc.)   \n",
            "2  Bachelor’s degree (B.A., B.S., B.Eng., etc.)   \n",
            "3  Bachelor’s degree (B.A., B.S., B.Eng., etc.)   \n",
            "4  Bachelor’s degree (B.A., B.S., B.Eng., etc.)   \n",
            "\n",
            "                                DevType                   OrgSize  \\\n",
            "0                                   NaN                       NaN   \n",
            "1  Senior Executive (C-Suite, VP, etc.)          2 to 9 employees   \n",
            "2                   Developer, back-end  5,000 to 9,999 employees   \n",
            "3                  Developer, front-end      100 to 499 employees   \n",
            "4                 Developer, full-stack        20 to 99 employees   \n",
            "\n",
            "                    Country  ConvertedCompYearly  WorkExp  \\\n",
            "0                       NaN                  NaN      NaN   \n",
            "1  United States of America             285000.0     10.0   \n",
            "2  United States of America             250000.0     23.0   \n",
            "3  United States of America             156000.0      7.0   \n",
            "4               Philippines              23456.0      6.0   \n",
            "\n",
            "                                            Industry  \n",
            "0                                                NaN  \n",
            "1  Information Services, IT, Software Development...  \n",
            "2  Information Services, IT, Software Development...  \n",
            "3                                                NaN  \n",
            "4                                              Other  \n"
          ]
        }
      ],
      "source": [
        "#1 ---------------------------\n",
        "import pandas as pd\n",
        "import numpy as np\n",
        "from collections import Counter\n",
        "from scipy.stats import binom\n",
        "from scipy.stats import norm\n",
        "\n",
        "survey = pd.read_csv('CP1 Stack Overflow 1.csv')\n",
        "survey_new = survey[['MainBranch', 'Age', 'Employment', 'RemoteWork', 'EdLevel', 'DevType',\n",
        "                     'OrgSize', 'Country', 'ConvertedCompYearly', 'WorkExp', 'Industry']]\n",
        "print(survey_new.head())\n"
      ]
    },
    {
      "cell_type": "code",
      "execution_count": null,
      "metadata": {
        "colab": {
          "base_uri": "https://localhost:8080/"
        },
        "id": "hwVNRxgQB20g",
        "metadata": {},
        "outputId": "2f008412-9643-44ae-dbf4-0890797714b4"
      },
      "outputs": [
        {
          "name": "stdout",
          "output_type": "stream",
          "text": [
            "Média de experiência total: 11.405126322311204\n",
            "Média de experiência da amostra de 100: 10.125\n",
            "Diferença entre as médias: 1.2801263223112045\n"
          ]
        }
      ],
      "source": [
        "#2 ---------------------------\n",
        "media_experiencia_total = survey_new['WorkExp'].mean()\n",
        "np.random.seed(8)\n",
        "amostra_100 = survey_new['WorkExp'].sample(n=100, replace=False)\n",
        "media_amostra_100 = amostra_100.mean()\n",
        "diferenca_medias = media_experiencia_total - media_amostra_100\n",
        "\n",
        "print(f\"Média de experiência total: {media_experiencia_total}\")\n",
        "print(f\"Média de experiência da amostra de 100: {media_amostra_100}\")\n",
        "print(f\"Diferença entre as médias: {diferenca_medias}\")\n",
        "\n"
      ]
    },
    {
      "cell_type": "code",
      "execution_count": null,
      "metadata": {
        "colab": {
          "base_uri": "https://localhost:8080/"
        },
        "id": "4ZMw5yBcB20g",
        "metadata": {},
        "outputId": "b2ae405a-6652-4d0a-9c88-88485e5a0734"
      },
      "outputs": [
        {
          "name": "stdout",
          "output_type": "stream",
          "text": [
            "Média de experiência total: 11.405126322311204\n",
            "Média de experiência da amostra de 50.000: 11.404016757023165\n",
            "Diferença entre as médias (amostra de 50.000): 0.0011095652880399598\n"
          ]
        }
      ],
      "source": [
        "#3 ---------------------------\n",
        "media_experiencia_total = survey_new['WorkExp'].mean()\n",
        "np.random.seed(8)\n",
        "amostra_50000 = survey_new['WorkExp'].sample(n=50000, replace=False, random_state=8)\n",
        "media_amostra_50000 = amostra_50000.mean()\n",
        "diferenca_medias_50000 = media_experiencia_total - media_amostra_50000\n",
        "\n",
        "print(f\"Média de experiência total: {media_experiencia_total}\")\n",
        "print(f\"Média de experiência da amostra de 50.000: {media_amostra_50000}\")\n",
        "print(f\"Diferença entre as médias (amostra de 50.000): {diferenca_medias_50000}\")\n"
      ]
    },
    {
      "cell_type": "code",
      "execution_count": null,
      "metadata": {
        "colab": {
          "base_uri": "https://localhost:8080/"
        },
        "id": "qbyc1SqRB20g",
        "metadata": {},
        "outputId": "c6d349f5-4526-4624-8438-8e2591032cfa"
      },
      "outputs": [
        {
          "name": "stdout",
          "output_type": "stream",
          "text": [
            "Média de experiência total: 11.405126322311204\n",
            "Média de experiência da amostra de 50.000 com reposição: 11.40632911392405\n",
            "Diferença entre as médias (amostra de 50.000 com reposição): -0.001202791612845644\n"
          ]
        }
      ],
      "source": [
        "#4 ---------------------------\n",
        "media_experiencia_total = survey_new['WorkExp'].mean()\n",
        "np.random.seed(8)\n",
        "amostra_50000_com_reposicao = survey_new['WorkExp'].sample(n=50000, replace=True, random_state=8)\n",
        "media_amostra_50000_com_reposicao = amostra_50000_com_reposicao.mean()\n",
        "diferenca_medias_50000_com_reposicao = media_experiencia_total - media_amostra_50000_com_reposicao\n",
        "\n",
        "print(f\"Média de experiência total: {media_experiencia_total}\")\n",
        "print(f\"Média de experiência da amostra de 50.000 com reposição: {media_amostra_50000_com_reposicao}\")\n",
        "print(f\"Diferença entre as médias (amostra de 50.000 com reposição): {diferenca_medias_50000_com_reposicao}\")\n",
        "\n"
      ]
    },
    {
      "cell_type": "code",
      "execution_count": null,
      "metadata": {
        "colab": {
          "base_uri": "https://localhost:8080/"
        },
        "id": "FShB7AuBB20h",
        "metadata": {},
        "outputId": "d506fb2d-8f8d-4db0-ec1b-3ac5fa4ed79f"
      },
      "outputs": [
        {
          "name": "stdout",
          "output_type": "stream",
          "text": [
            "Probabilidade de ocorrência de cada número: 0.009259\n",
            "Valor mais repetido após 1.000 jogadas: 76\n",
            "Valor mais repetido após 100.000 jogadas: 14\n"
          ]
        }
      ],
      "source": [
        "#5 ---------------------------\n",
        "max_number = 108\n",
        "probabilidade_ocorrencia = 1 / max_number\n",
        "jogadas_1000 = np.random.randint(1, max_number + 1, 1000)\n",
        "contador_1000 = Counter(jogadas_1000)\n",
        "valor_mais_repetido_1000 = contador_1000.most_common(1)[0][0]\n",
        "jogadas_100000 = np.random.randint(1, max_number + 1, 100000)\n",
        "contador_100000 = Counter(jogadas_100000)\n",
        "valor_mais_repetido_100000 = contador_100000.most_common(1)[0][0]\n",
        "\n",
        "print(f\"Probabilidade de ocorrência de cada número: {probabilidade_ocorrencia:.6f}\")\n",
        "print(f\"Valor mais repetido após 1.000 jogadas: {valor_mais_repetido_1000}\")\n",
        "print(f\"Valor mais repetido após 100.000 jogadas: {valor_mais_repetido_100000}\")\n",
        "\n"
      ]
    },
    {
      "cell_type": "code",
      "execution_count": null,
      "metadata": {
        "colab": {
          "base_uri": "https://localhost:8080/"
        },
        "id": "GAWN554fB20h",
        "metadata": {},
        "outputId": "255a8be1-6af1-43be-b863-9ba0411f19a0"
      },
      "outputs": [
        {
          "name": "stdout",
          "output_type": "stream",
          "text": [
            "Média de CARAS obtidas por todos os clientes: 0.4\n"
          ]
        }
      ],
      "source": [
        "#6 ---------------------------\n",
        "prob_cara = 0.08\n",
        "num_jogadas = 5\n",
        "num_clientes = 10\n",
        "caras_por_cliente = binom.rvs(n=num_jogadas, p=prob_cara, size=num_clientes)\n",
        "media_caras = caras_por_cliente.mean()\n",
        "\n",
        "print(f\"Média de CARAS obtidas por todos os clientes: {media_caras}\")\n",
        "\n"
      ]
    },
    {
      "cell_type": "code",
      "execution_count": null,
      "metadata": {
        "colab": {
          "base_uri": "https://localhost:8080/"
        },
        "id": "glJcnPmSB20h",
        "metadata": {},
        "outputId": "43df780d-586f-43fd-9a2d-4ef3ae0318b2"
      },
      "outputs": [
        {
          "name": "stdout",
          "output_type": "stream",
          "text": [
            "Probabilidade de obter 5 CARAS em 5 jogadas: 0.00000328\n"
          ]
        }
      ],
      "source": [
        "#7 ---------------------------\n",
        "prob_cara = 0.08\n",
        "num_jogadas = 5\n",
        "probabilidade_5_caras = binom.pmf(5, num_jogadas, prob_cara)\n",
        "\n",
        "print(f\"Probabilidade de obter 5 CARAS em 5 jogadas: {probabilidade_5_caras:.8f}\")\n"
      ]
    },
    {
      "cell_type": "code",
      "execution_count": null,
      "metadata": {
        "colab": {
          "base_uri": "https://localhost:8080/"
        },
        "id": "TQku8OADB20h",
        "metadata": {},
        "outputId": "92dfb0c2-0e9b-45f4-b222-ce363ee8d36f"
      },
      "outputs": [
        {
          "name": "stdout",
          "output_type": "stream",
          "text": [
            "Resultado do melhor jogador (ganho máximo): -16.37 reais\n",
            "Resultado do pior jogador (perda máxima): -158.37 reais\n",
            "Resultado financeiro total do cassino: -12148.83 reais\n"
          ]
        }
      ],
      "source": [
        "#8 ---------------------------\n",
        "np.random.seed(8)\n",
        "media = -80\n",
        "desvio_padrao = 25\n",
        "num_jogadores = 152\n",
        "resultados = norm.rvs(loc=media, scale=desvio_padrao, size=num_jogadores)\n",
        "melhor_jogador = max(resultados)\n",
        "pior_jogador = min(resultados)\n",
        "resultado_financeiro_cassino = resultados.sum()\n",
        "\n",
        "print(f\"Resultado do melhor jogador (ganho máximo): {melhor_jogador:.2f} reais\")\n",
        "print(f\"Resultado do pior jogador (perda máxima): {pior_jogador:.2f} reais\")\n",
        "print(f\"Resultado financeiro total do cassino: {resultado_financeiro_cassino:.2f} reais\")\n"
      ]
    },
    {
      "cell_type": "code",
      "execution_count": null,
      "metadata": {
        "colab": {
          "base_uri": "https://localhost:8080/"
        },
        "id": "Xr6cYMa0B20h",
        "metadata": {},
        "outputId": "26f4abfa-93fe-439a-8106-f67ebc78364f"
      },
      "outputs": [
        {
          "name": "stdout",
          "output_type": "stream",
          "text": [
            "Resultado do melhor jogador (ganho máximo): 29.29 reais\n",
            "Resultado do pior jogador (perda máxima): -144.05 reais\n",
            "Resultado financeiro total do cassino: -18230.50 reais\n"
          ]
        }
      ],
      "source": [
        "#9 ---------------------------\n",
        "np.random.seed(8)\n",
        "media = -50\n",
        "desvio_padrao = 30\n",
        "num_jogadores = 363\n",
        "resultados = norm.rvs(loc=media, scale=desvio_padrao, size=num_jogadores)\n",
        "melhor_jogador = max(resultados)\n",
        "pior_jogador = min(resultados)\n",
        "resultado_financeiro_cassino = resultados.sum()\n",
        "\n",
        "print(f\"Resultado do melhor jogador (ganho máximo): {melhor_jogador:.2f} reais\")\n",
        "print(f\"Resultado do pior jogador (perda máxima): {pior_jogador:.2f} reais\")\n",
        "print(f\"Resultado financeiro total do cassino: {resultado_financeiro_cassino:.2f} reais\")\n"
      ]
    },
    {
      "cell_type": "code",
      "execution_count": null,
      "metadata": {
        "colab": {
          "base_uri": "https://localhost:8080/"
        },
        "id": "7LhMZSiPB20h",
        "metadata": {},
        "outputId": "f4036c87-3c93-4a17-848a-cab0ee123019"
      },
      "outputs": [
        {
          "name": "stdout",
          "output_type": "stream",
          "text": [
            "Probabilidade de resultado positivo na primeira semana: 0.0007\n",
            "Probabilidade de resultado positivo na segunda semana: 0.0478\n"
          ]
        }
      ],
      "source": [
        "#10 ---------------------------\n",
        "from scipy.stats import norm\n",
        "\n",
        "# Parâmetros da primeira semana\n",
        "media_primeira = -80\n",
        "desvio_padrao_primeira = 25\n",
        "\n",
        "media_segunda = -50\n",
        "desvio_padrao_segunda = 30\n",
        "\n",
        "probabilidade_positiva_primeira = 1 - norm.cdf(0, loc=media_primeira, scale=desvio_padrao_primeira)\n",
        "print(f\"Probabilidade de resultado positivo na primeira semana: {probabilidade_positiva_primeira:.4f}\")\n",
        "\n",
        "probabilidade_positiva_segunda = 1 - norm.cdf(0, loc=media_segunda, scale=desvio_padrao_segunda)\n",
        "print(f\"Probabilidade de resultado positivo na segunda semana: {probabilidade_positiva_segunda:.4f}\")\n",
        "\n"
      ]
    }
  ],
  "metadata": {
    "colab": {
      "provenance": []
    },
    "kernelspec": {
      "display_name": "Python 3",
      "language": "python",
      "name": "python3"
    },
    "language_info": {
      "codemirror_mode": {
        "name": "ipython",
        "version": 3
      },
      "file_extension": ".py",
      "mimetype": "text/x-python",
      "name": "python",
      "nbconvert_exporter": "python",
      "pygments_lexer": "ipython3",
      "version": "3.12.2"
    }
  },
  "nbformat": 4,
  "nbformat_minor": 0
}